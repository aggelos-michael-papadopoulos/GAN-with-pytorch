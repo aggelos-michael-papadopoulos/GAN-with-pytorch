{
  "nbformat": 4,
  "nbformat_minor": 0,
  "metadata": {
    "colab": {
      "name": "GAN on  pytorch (MNIST).ipynb",
      "provenance": [],
      "authorship_tag": "ABX9TyN4BheIGa3V9OgmHToeHHWF",
      "include_colab_link": true
    },
    "kernelspec": {
      "name": "python3",
      "display_name": "Python 3"
    },
    "language_info": {
      "name": "python"
    },
    "accelerator": "GPU",
    "widgets": {
      "application/vnd.jupyter.widget-state+json": {
        "c90aa16e29a14b1aaa182f9114195f70": {
          "model_module": "@jupyter-widgets/controls",
          "model_name": "HBoxModel",
          "model_module_version": "1.5.0",
          "state": {
            "_dom_classes": [],
            "_model_module": "@jupyter-widgets/controls",
            "_model_module_version": "1.5.0",
            "_model_name": "HBoxModel",
            "_view_count": null,
            "_view_module": "@jupyter-widgets/controls",
            "_view_module_version": "1.5.0",
            "_view_name": "HBoxView",
            "box_style": "",
            "children": [
              "IPY_MODEL_bc3e8ff249674892b57e87042239d358",
              "IPY_MODEL_c907a80d9bdc40b7870f6162f853c530",
              "IPY_MODEL_d300cd4db2b24a9e94dd859ec3c42c1c"
            ],
            "layout": "IPY_MODEL_5021281ca6ce4d22976f5aa3b0e61d16"
          }
        },
        "bc3e8ff249674892b57e87042239d358": {
          "model_module": "@jupyter-widgets/controls",
          "model_name": "HTMLModel",
          "model_module_version": "1.5.0",
          "state": {
            "_dom_classes": [],
            "_model_module": "@jupyter-widgets/controls",
            "_model_module_version": "1.5.0",
            "_model_name": "HTMLModel",
            "_view_count": null,
            "_view_module": "@jupyter-widgets/controls",
            "_view_module_version": "1.5.0",
            "_view_name": "HTMLView",
            "description": "",
            "description_tooltip": null,
            "layout": "IPY_MODEL_ea59f56529694e9eb81e16cd1413a259",
            "placeholder": "​",
            "style": "IPY_MODEL_1f5615f40ceb4dd2a4c0677c1c1b3219",
            "value": ""
          }
        },
        "c907a80d9bdc40b7870f6162f853c530": {
          "model_module": "@jupyter-widgets/controls",
          "model_name": "FloatProgressModel",
          "model_module_version": "1.5.0",
          "state": {
            "_dom_classes": [],
            "_model_module": "@jupyter-widgets/controls",
            "_model_module_version": "1.5.0",
            "_model_name": "FloatProgressModel",
            "_view_count": null,
            "_view_module": "@jupyter-widgets/controls",
            "_view_module_version": "1.5.0",
            "_view_name": "ProgressView",
            "bar_style": "success",
            "description": "",
            "description_tooltip": null,
            "layout": "IPY_MODEL_bc41a7c838a6403abe74b9bc3c056442",
            "max": 9912422,
            "min": 0,
            "orientation": "horizontal",
            "style": "IPY_MODEL_fa05f582b8dc45f995973e84299064e7",
            "value": 9912422
          }
        },
        "d300cd4db2b24a9e94dd859ec3c42c1c": {
          "model_module": "@jupyter-widgets/controls",
          "model_name": "HTMLModel",
          "model_module_version": "1.5.0",
          "state": {
            "_dom_classes": [],
            "_model_module": "@jupyter-widgets/controls",
            "_model_module_version": "1.5.0",
            "_model_name": "HTMLModel",
            "_view_count": null,
            "_view_module": "@jupyter-widgets/controls",
            "_view_module_version": "1.5.0",
            "_view_name": "HTMLView",
            "description": "",
            "description_tooltip": null,
            "layout": "IPY_MODEL_4183b37ddf3047a6a13146eed61c6a25",
            "placeholder": "​",
            "style": "IPY_MODEL_4b6655e64e8b47fa8b1bcc980a9a539a",
            "value": " 9913344/? [00:00&lt;00:00, 23979244.32it/s]"
          }
        },
        "5021281ca6ce4d22976f5aa3b0e61d16": {
          "model_module": "@jupyter-widgets/base",
          "model_name": "LayoutModel",
          "model_module_version": "1.2.0",
          "state": {
            "_model_module": "@jupyter-widgets/base",
            "_model_module_version": "1.2.0",
            "_model_name": "LayoutModel",
            "_view_count": null,
            "_view_module": "@jupyter-widgets/base",
            "_view_module_version": "1.2.0",
            "_view_name": "LayoutView",
            "align_content": null,
            "align_items": null,
            "align_self": null,
            "border": null,
            "bottom": null,
            "display": null,
            "flex": null,
            "flex_flow": null,
            "grid_area": null,
            "grid_auto_columns": null,
            "grid_auto_flow": null,
            "grid_auto_rows": null,
            "grid_column": null,
            "grid_gap": null,
            "grid_row": null,
            "grid_template_areas": null,
            "grid_template_columns": null,
            "grid_template_rows": null,
            "height": null,
            "justify_content": null,
            "justify_items": null,
            "left": null,
            "margin": null,
            "max_height": null,
            "max_width": null,
            "min_height": null,
            "min_width": null,
            "object_fit": null,
            "object_position": null,
            "order": null,
            "overflow": null,
            "overflow_x": null,
            "overflow_y": null,
            "padding": null,
            "right": null,
            "top": null,
            "visibility": null,
            "width": null
          }
        },
        "ea59f56529694e9eb81e16cd1413a259": {
          "model_module": "@jupyter-widgets/base",
          "model_name": "LayoutModel",
          "model_module_version": "1.2.0",
          "state": {
            "_model_module": "@jupyter-widgets/base",
            "_model_module_version": "1.2.0",
            "_model_name": "LayoutModel",
            "_view_count": null,
            "_view_module": "@jupyter-widgets/base",
            "_view_module_version": "1.2.0",
            "_view_name": "LayoutView",
            "align_content": null,
            "align_items": null,
            "align_self": null,
            "border": null,
            "bottom": null,
            "display": null,
            "flex": null,
            "flex_flow": null,
            "grid_area": null,
            "grid_auto_columns": null,
            "grid_auto_flow": null,
            "grid_auto_rows": null,
            "grid_column": null,
            "grid_gap": null,
            "grid_row": null,
            "grid_template_areas": null,
            "grid_template_columns": null,
            "grid_template_rows": null,
            "height": null,
            "justify_content": null,
            "justify_items": null,
            "left": null,
            "margin": null,
            "max_height": null,
            "max_width": null,
            "min_height": null,
            "min_width": null,
            "object_fit": null,
            "object_position": null,
            "order": null,
            "overflow": null,
            "overflow_x": null,
            "overflow_y": null,
            "padding": null,
            "right": null,
            "top": null,
            "visibility": null,
            "width": null
          }
        },
        "1f5615f40ceb4dd2a4c0677c1c1b3219": {
          "model_module": "@jupyter-widgets/controls",
          "model_name": "DescriptionStyleModel",
          "model_module_version": "1.5.0",
          "state": {
            "_model_module": "@jupyter-widgets/controls",
            "_model_module_version": "1.5.0",
            "_model_name": "DescriptionStyleModel",
            "_view_count": null,
            "_view_module": "@jupyter-widgets/base",
            "_view_module_version": "1.2.0",
            "_view_name": "StyleView",
            "description_width": ""
          }
        },
        "bc41a7c838a6403abe74b9bc3c056442": {
          "model_module": "@jupyter-widgets/base",
          "model_name": "LayoutModel",
          "model_module_version": "1.2.0",
          "state": {
            "_model_module": "@jupyter-widgets/base",
            "_model_module_version": "1.2.0",
            "_model_name": "LayoutModel",
            "_view_count": null,
            "_view_module": "@jupyter-widgets/base",
            "_view_module_version": "1.2.0",
            "_view_name": "LayoutView",
            "align_content": null,
            "align_items": null,
            "align_self": null,
            "border": null,
            "bottom": null,
            "display": null,
            "flex": null,
            "flex_flow": null,
            "grid_area": null,
            "grid_auto_columns": null,
            "grid_auto_flow": null,
            "grid_auto_rows": null,
            "grid_column": null,
            "grid_gap": null,
            "grid_row": null,
            "grid_template_areas": null,
            "grid_template_columns": null,
            "grid_template_rows": null,
            "height": null,
            "justify_content": null,
            "justify_items": null,
            "left": null,
            "margin": null,
            "max_height": null,
            "max_width": null,
            "min_height": null,
            "min_width": null,
            "object_fit": null,
            "object_position": null,
            "order": null,
            "overflow": null,
            "overflow_x": null,
            "overflow_y": null,
            "padding": null,
            "right": null,
            "top": null,
            "visibility": null,
            "width": null
          }
        },
        "fa05f582b8dc45f995973e84299064e7": {
          "model_module": "@jupyter-widgets/controls",
          "model_name": "ProgressStyleModel",
          "model_module_version": "1.5.0",
          "state": {
            "_model_module": "@jupyter-widgets/controls",
            "_model_module_version": "1.5.0",
            "_model_name": "ProgressStyleModel",
            "_view_count": null,
            "_view_module": "@jupyter-widgets/base",
            "_view_module_version": "1.2.0",
            "_view_name": "StyleView",
            "bar_color": null,
            "description_width": ""
          }
        },
        "4183b37ddf3047a6a13146eed61c6a25": {
          "model_module": "@jupyter-widgets/base",
          "model_name": "LayoutModel",
          "model_module_version": "1.2.0",
          "state": {
            "_model_module": "@jupyter-widgets/base",
            "_model_module_version": "1.2.0",
            "_model_name": "LayoutModel",
            "_view_count": null,
            "_view_module": "@jupyter-widgets/base",
            "_view_module_version": "1.2.0",
            "_view_name": "LayoutView",
            "align_content": null,
            "align_items": null,
            "align_self": null,
            "border": null,
            "bottom": null,
            "display": null,
            "flex": null,
            "flex_flow": null,
            "grid_area": null,
            "grid_auto_columns": null,
            "grid_auto_flow": null,
            "grid_auto_rows": null,
            "grid_column": null,
            "grid_gap": null,
            "grid_row": null,
            "grid_template_areas": null,
            "grid_template_columns": null,
            "grid_template_rows": null,
            "height": null,
            "justify_content": null,
            "justify_items": null,
            "left": null,
            "margin": null,
            "max_height": null,
            "max_width": null,
            "min_height": null,
            "min_width": null,
            "object_fit": null,
            "object_position": null,
            "order": null,
            "overflow": null,
            "overflow_x": null,
            "overflow_y": null,
            "padding": null,
            "right": null,
            "top": null,
            "visibility": null,
            "width": null
          }
        },
        "4b6655e64e8b47fa8b1bcc980a9a539a": {
          "model_module": "@jupyter-widgets/controls",
          "model_name": "DescriptionStyleModel",
          "model_module_version": "1.5.0",
          "state": {
            "_model_module": "@jupyter-widgets/controls",
            "_model_module_version": "1.5.0",
            "_model_name": "DescriptionStyleModel",
            "_view_count": null,
            "_view_module": "@jupyter-widgets/base",
            "_view_module_version": "1.2.0",
            "_view_name": "StyleView",
            "description_width": ""
          }
        },
        "f3453dc7122a40e4a92d048ed751f5a9": {
          "model_module": "@jupyter-widgets/controls",
          "model_name": "HBoxModel",
          "model_module_version": "1.5.0",
          "state": {
            "_dom_classes": [],
            "_model_module": "@jupyter-widgets/controls",
            "_model_module_version": "1.5.0",
            "_model_name": "HBoxModel",
            "_view_count": null,
            "_view_module": "@jupyter-widgets/controls",
            "_view_module_version": "1.5.0",
            "_view_name": "HBoxView",
            "box_style": "",
            "children": [
              "IPY_MODEL_85135deb8bfb457fa344a30d466dd408",
              "IPY_MODEL_882f2e46f0a8492abe814d935b8fad98",
              "IPY_MODEL_3b64ebb01ba34495a024151ee911b774"
            ],
            "layout": "IPY_MODEL_6352622ef16541e1880481f869b5fae0"
          }
        },
        "85135deb8bfb457fa344a30d466dd408": {
          "model_module": "@jupyter-widgets/controls",
          "model_name": "HTMLModel",
          "model_module_version": "1.5.0",
          "state": {
            "_dom_classes": [],
            "_model_module": "@jupyter-widgets/controls",
            "_model_module_version": "1.5.0",
            "_model_name": "HTMLModel",
            "_view_count": null,
            "_view_module": "@jupyter-widgets/controls",
            "_view_module_version": "1.5.0",
            "_view_name": "HTMLView",
            "description": "",
            "description_tooltip": null,
            "layout": "IPY_MODEL_6994708f729145a18c2cc3817481eb22",
            "placeholder": "​",
            "style": "IPY_MODEL_19809cd43e0d4313be7a33893bf5a82c",
            "value": ""
          }
        },
        "882f2e46f0a8492abe814d935b8fad98": {
          "model_module": "@jupyter-widgets/controls",
          "model_name": "FloatProgressModel",
          "model_module_version": "1.5.0",
          "state": {
            "_dom_classes": [],
            "_model_module": "@jupyter-widgets/controls",
            "_model_module_version": "1.5.0",
            "_model_name": "FloatProgressModel",
            "_view_count": null,
            "_view_module": "@jupyter-widgets/controls",
            "_view_module_version": "1.5.0",
            "_view_name": "ProgressView",
            "bar_style": "success",
            "description": "",
            "description_tooltip": null,
            "layout": "IPY_MODEL_01ca99952cdf4681b05853a2d32b3598",
            "max": 28881,
            "min": 0,
            "orientation": "horizontal",
            "style": "IPY_MODEL_d8208207bc964f7abffd34cb00550b78",
            "value": 28881
          }
        },
        "3b64ebb01ba34495a024151ee911b774": {
          "model_module": "@jupyter-widgets/controls",
          "model_name": "HTMLModel",
          "model_module_version": "1.5.0",
          "state": {
            "_dom_classes": [],
            "_model_module": "@jupyter-widgets/controls",
            "_model_module_version": "1.5.0",
            "_model_name": "HTMLModel",
            "_view_count": null,
            "_view_module": "@jupyter-widgets/controls",
            "_view_module_version": "1.5.0",
            "_view_name": "HTMLView",
            "description": "",
            "description_tooltip": null,
            "layout": "IPY_MODEL_5e00c0514c924f49bf9d59113aa7ff1f",
            "placeholder": "​",
            "style": "IPY_MODEL_719f005fdbb74b47a33b2389bc86a631",
            "value": " 29696/? [00:00&lt;00:00, 774151.76it/s]"
          }
        },
        "6352622ef16541e1880481f869b5fae0": {
          "model_module": "@jupyter-widgets/base",
          "model_name": "LayoutModel",
          "model_module_version": "1.2.0",
          "state": {
            "_model_module": "@jupyter-widgets/base",
            "_model_module_version": "1.2.0",
            "_model_name": "LayoutModel",
            "_view_count": null,
            "_view_module": "@jupyter-widgets/base",
            "_view_module_version": "1.2.0",
            "_view_name": "LayoutView",
            "align_content": null,
            "align_items": null,
            "align_self": null,
            "border": null,
            "bottom": null,
            "display": null,
            "flex": null,
            "flex_flow": null,
            "grid_area": null,
            "grid_auto_columns": null,
            "grid_auto_flow": null,
            "grid_auto_rows": null,
            "grid_column": null,
            "grid_gap": null,
            "grid_row": null,
            "grid_template_areas": null,
            "grid_template_columns": null,
            "grid_template_rows": null,
            "height": null,
            "justify_content": null,
            "justify_items": null,
            "left": null,
            "margin": null,
            "max_height": null,
            "max_width": null,
            "min_height": null,
            "min_width": null,
            "object_fit": null,
            "object_position": null,
            "order": null,
            "overflow": null,
            "overflow_x": null,
            "overflow_y": null,
            "padding": null,
            "right": null,
            "top": null,
            "visibility": null,
            "width": null
          }
        },
        "6994708f729145a18c2cc3817481eb22": {
          "model_module": "@jupyter-widgets/base",
          "model_name": "LayoutModel",
          "model_module_version": "1.2.0",
          "state": {
            "_model_module": "@jupyter-widgets/base",
            "_model_module_version": "1.2.0",
            "_model_name": "LayoutModel",
            "_view_count": null,
            "_view_module": "@jupyter-widgets/base",
            "_view_module_version": "1.2.0",
            "_view_name": "LayoutView",
            "align_content": null,
            "align_items": null,
            "align_self": null,
            "border": null,
            "bottom": null,
            "display": null,
            "flex": null,
            "flex_flow": null,
            "grid_area": null,
            "grid_auto_columns": null,
            "grid_auto_flow": null,
            "grid_auto_rows": null,
            "grid_column": null,
            "grid_gap": null,
            "grid_row": null,
            "grid_template_areas": null,
            "grid_template_columns": null,
            "grid_template_rows": null,
            "height": null,
            "justify_content": null,
            "justify_items": null,
            "left": null,
            "margin": null,
            "max_height": null,
            "max_width": null,
            "min_height": null,
            "min_width": null,
            "object_fit": null,
            "object_position": null,
            "order": null,
            "overflow": null,
            "overflow_x": null,
            "overflow_y": null,
            "padding": null,
            "right": null,
            "top": null,
            "visibility": null,
            "width": null
          }
        },
        "19809cd43e0d4313be7a33893bf5a82c": {
          "model_module": "@jupyter-widgets/controls",
          "model_name": "DescriptionStyleModel",
          "model_module_version": "1.5.0",
          "state": {
            "_model_module": "@jupyter-widgets/controls",
            "_model_module_version": "1.5.0",
            "_model_name": "DescriptionStyleModel",
            "_view_count": null,
            "_view_module": "@jupyter-widgets/base",
            "_view_module_version": "1.2.0",
            "_view_name": "StyleView",
            "description_width": ""
          }
        },
        "01ca99952cdf4681b05853a2d32b3598": {
          "model_module": "@jupyter-widgets/base",
          "model_name": "LayoutModel",
          "model_module_version": "1.2.0",
          "state": {
            "_model_module": "@jupyter-widgets/base",
            "_model_module_version": "1.2.0",
            "_model_name": "LayoutModel",
            "_view_count": null,
            "_view_module": "@jupyter-widgets/base",
            "_view_module_version": "1.2.0",
            "_view_name": "LayoutView",
            "align_content": null,
            "align_items": null,
            "align_self": null,
            "border": null,
            "bottom": null,
            "display": null,
            "flex": null,
            "flex_flow": null,
            "grid_area": null,
            "grid_auto_columns": null,
            "grid_auto_flow": null,
            "grid_auto_rows": null,
            "grid_column": null,
            "grid_gap": null,
            "grid_row": null,
            "grid_template_areas": null,
            "grid_template_columns": null,
            "grid_template_rows": null,
            "height": null,
            "justify_content": null,
            "justify_items": null,
            "left": null,
            "margin": null,
            "max_height": null,
            "max_width": null,
            "min_height": null,
            "min_width": null,
            "object_fit": null,
            "object_position": null,
            "order": null,
            "overflow": null,
            "overflow_x": null,
            "overflow_y": null,
            "padding": null,
            "right": null,
            "top": null,
            "visibility": null,
            "width": null
          }
        },
        "d8208207bc964f7abffd34cb00550b78": {
          "model_module": "@jupyter-widgets/controls",
          "model_name": "ProgressStyleModel",
          "model_module_version": "1.5.0",
          "state": {
            "_model_module": "@jupyter-widgets/controls",
            "_model_module_version": "1.5.0",
            "_model_name": "ProgressStyleModel",
            "_view_count": null,
            "_view_module": "@jupyter-widgets/base",
            "_view_module_version": "1.2.0",
            "_view_name": "StyleView",
            "bar_color": null,
            "description_width": ""
          }
        },
        "5e00c0514c924f49bf9d59113aa7ff1f": {
          "model_module": "@jupyter-widgets/base",
          "model_name": "LayoutModel",
          "model_module_version": "1.2.0",
          "state": {
            "_model_module": "@jupyter-widgets/base",
            "_model_module_version": "1.2.0",
            "_model_name": "LayoutModel",
            "_view_count": null,
            "_view_module": "@jupyter-widgets/base",
            "_view_module_version": "1.2.0",
            "_view_name": "LayoutView",
            "align_content": null,
            "align_items": null,
            "align_self": null,
            "border": null,
            "bottom": null,
            "display": null,
            "flex": null,
            "flex_flow": null,
            "grid_area": null,
            "grid_auto_columns": null,
            "grid_auto_flow": null,
            "grid_auto_rows": null,
            "grid_column": null,
            "grid_gap": null,
            "grid_row": null,
            "grid_template_areas": null,
            "grid_template_columns": null,
            "grid_template_rows": null,
            "height": null,
            "justify_content": null,
            "justify_items": null,
            "left": null,
            "margin": null,
            "max_height": null,
            "max_width": null,
            "min_height": null,
            "min_width": null,
            "object_fit": null,
            "object_position": null,
            "order": null,
            "overflow": null,
            "overflow_x": null,
            "overflow_y": null,
            "padding": null,
            "right": null,
            "top": null,
            "visibility": null,
            "width": null
          }
        },
        "719f005fdbb74b47a33b2389bc86a631": {
          "model_module": "@jupyter-widgets/controls",
          "model_name": "DescriptionStyleModel",
          "model_module_version": "1.5.0",
          "state": {
            "_model_module": "@jupyter-widgets/controls",
            "_model_module_version": "1.5.0",
            "_model_name": "DescriptionStyleModel",
            "_view_count": null,
            "_view_module": "@jupyter-widgets/base",
            "_view_module_version": "1.2.0",
            "_view_name": "StyleView",
            "description_width": ""
          }
        },
        "f79555ebdfc34a43a01954f29b09416a": {
          "model_module": "@jupyter-widgets/controls",
          "model_name": "HBoxModel",
          "model_module_version": "1.5.0",
          "state": {
            "_dom_classes": [],
            "_model_module": "@jupyter-widgets/controls",
            "_model_module_version": "1.5.0",
            "_model_name": "HBoxModel",
            "_view_count": null,
            "_view_module": "@jupyter-widgets/controls",
            "_view_module_version": "1.5.0",
            "_view_name": "HBoxView",
            "box_style": "",
            "children": [
              "IPY_MODEL_876193e19fb547efbe165c5e61210ca2",
              "IPY_MODEL_d959a527452d455cb79e841cb1035fc8",
              "IPY_MODEL_d2cc44d29f09461b8a74edfd2b07489f"
            ],
            "layout": "IPY_MODEL_fa24ddc5316249408163786c83c4a68c"
          }
        },
        "876193e19fb547efbe165c5e61210ca2": {
          "model_module": "@jupyter-widgets/controls",
          "model_name": "HTMLModel",
          "model_module_version": "1.5.0",
          "state": {
            "_dom_classes": [],
            "_model_module": "@jupyter-widgets/controls",
            "_model_module_version": "1.5.0",
            "_model_name": "HTMLModel",
            "_view_count": null,
            "_view_module": "@jupyter-widgets/controls",
            "_view_module_version": "1.5.0",
            "_view_name": "HTMLView",
            "description": "",
            "description_tooltip": null,
            "layout": "IPY_MODEL_beaf2c51db4c4519af23e682a3f0d99a",
            "placeholder": "​",
            "style": "IPY_MODEL_6b65f029483c45b6a10e3a627fe828ba",
            "value": ""
          }
        },
        "d959a527452d455cb79e841cb1035fc8": {
          "model_module": "@jupyter-widgets/controls",
          "model_name": "FloatProgressModel",
          "model_module_version": "1.5.0",
          "state": {
            "_dom_classes": [],
            "_model_module": "@jupyter-widgets/controls",
            "_model_module_version": "1.5.0",
            "_model_name": "FloatProgressModel",
            "_view_count": null,
            "_view_module": "@jupyter-widgets/controls",
            "_view_module_version": "1.5.0",
            "_view_name": "ProgressView",
            "bar_style": "success",
            "description": "",
            "description_tooltip": null,
            "layout": "IPY_MODEL_74471863c5194030b4fe68cb5f0b8ae9",
            "max": 1648877,
            "min": 0,
            "orientation": "horizontal",
            "style": "IPY_MODEL_bdd90702886c4f33a849b7f0fa9eae0c",
            "value": 1648877
          }
        },
        "d2cc44d29f09461b8a74edfd2b07489f": {
          "model_module": "@jupyter-widgets/controls",
          "model_name": "HTMLModel",
          "model_module_version": "1.5.0",
          "state": {
            "_dom_classes": [],
            "_model_module": "@jupyter-widgets/controls",
            "_model_module_version": "1.5.0",
            "_model_name": "HTMLModel",
            "_view_count": null,
            "_view_module": "@jupyter-widgets/controls",
            "_view_module_version": "1.5.0",
            "_view_name": "HTMLView",
            "description": "",
            "description_tooltip": null,
            "layout": "IPY_MODEL_9a4b3996100346028f2310d1f8ea941c",
            "placeholder": "​",
            "style": "IPY_MODEL_fdbb89b795b2462cbeaa2cf5c3b2af98",
            "value": " 1649664/? [00:00&lt;00:00, 14494561.03it/s]"
          }
        },
        "fa24ddc5316249408163786c83c4a68c": {
          "model_module": "@jupyter-widgets/base",
          "model_name": "LayoutModel",
          "model_module_version": "1.2.0",
          "state": {
            "_model_module": "@jupyter-widgets/base",
            "_model_module_version": "1.2.0",
            "_model_name": "LayoutModel",
            "_view_count": null,
            "_view_module": "@jupyter-widgets/base",
            "_view_module_version": "1.2.0",
            "_view_name": "LayoutView",
            "align_content": null,
            "align_items": null,
            "align_self": null,
            "border": null,
            "bottom": null,
            "display": null,
            "flex": null,
            "flex_flow": null,
            "grid_area": null,
            "grid_auto_columns": null,
            "grid_auto_flow": null,
            "grid_auto_rows": null,
            "grid_column": null,
            "grid_gap": null,
            "grid_row": null,
            "grid_template_areas": null,
            "grid_template_columns": null,
            "grid_template_rows": null,
            "height": null,
            "justify_content": null,
            "justify_items": null,
            "left": null,
            "margin": null,
            "max_height": null,
            "max_width": null,
            "min_height": null,
            "min_width": null,
            "object_fit": null,
            "object_position": null,
            "order": null,
            "overflow": null,
            "overflow_x": null,
            "overflow_y": null,
            "padding": null,
            "right": null,
            "top": null,
            "visibility": null,
            "width": null
          }
        },
        "beaf2c51db4c4519af23e682a3f0d99a": {
          "model_module": "@jupyter-widgets/base",
          "model_name": "LayoutModel",
          "model_module_version": "1.2.0",
          "state": {
            "_model_module": "@jupyter-widgets/base",
            "_model_module_version": "1.2.0",
            "_model_name": "LayoutModel",
            "_view_count": null,
            "_view_module": "@jupyter-widgets/base",
            "_view_module_version": "1.2.0",
            "_view_name": "LayoutView",
            "align_content": null,
            "align_items": null,
            "align_self": null,
            "border": null,
            "bottom": null,
            "display": null,
            "flex": null,
            "flex_flow": null,
            "grid_area": null,
            "grid_auto_columns": null,
            "grid_auto_flow": null,
            "grid_auto_rows": null,
            "grid_column": null,
            "grid_gap": null,
            "grid_row": null,
            "grid_template_areas": null,
            "grid_template_columns": null,
            "grid_template_rows": null,
            "height": null,
            "justify_content": null,
            "justify_items": null,
            "left": null,
            "margin": null,
            "max_height": null,
            "max_width": null,
            "min_height": null,
            "min_width": null,
            "object_fit": null,
            "object_position": null,
            "order": null,
            "overflow": null,
            "overflow_x": null,
            "overflow_y": null,
            "padding": null,
            "right": null,
            "top": null,
            "visibility": null,
            "width": null
          }
        },
        "6b65f029483c45b6a10e3a627fe828ba": {
          "model_module": "@jupyter-widgets/controls",
          "model_name": "DescriptionStyleModel",
          "model_module_version": "1.5.0",
          "state": {
            "_model_module": "@jupyter-widgets/controls",
            "_model_module_version": "1.5.0",
            "_model_name": "DescriptionStyleModel",
            "_view_count": null,
            "_view_module": "@jupyter-widgets/base",
            "_view_module_version": "1.2.0",
            "_view_name": "StyleView",
            "description_width": ""
          }
        },
        "74471863c5194030b4fe68cb5f0b8ae9": {
          "model_module": "@jupyter-widgets/base",
          "model_name": "LayoutModel",
          "model_module_version": "1.2.0",
          "state": {
            "_model_module": "@jupyter-widgets/base",
            "_model_module_version": "1.2.0",
            "_model_name": "LayoutModel",
            "_view_count": null,
            "_view_module": "@jupyter-widgets/base",
            "_view_module_version": "1.2.0",
            "_view_name": "LayoutView",
            "align_content": null,
            "align_items": null,
            "align_self": null,
            "border": null,
            "bottom": null,
            "display": null,
            "flex": null,
            "flex_flow": null,
            "grid_area": null,
            "grid_auto_columns": null,
            "grid_auto_flow": null,
            "grid_auto_rows": null,
            "grid_column": null,
            "grid_gap": null,
            "grid_row": null,
            "grid_template_areas": null,
            "grid_template_columns": null,
            "grid_template_rows": null,
            "height": null,
            "justify_content": null,
            "justify_items": null,
            "left": null,
            "margin": null,
            "max_height": null,
            "max_width": null,
            "min_height": null,
            "min_width": null,
            "object_fit": null,
            "object_position": null,
            "order": null,
            "overflow": null,
            "overflow_x": null,
            "overflow_y": null,
            "padding": null,
            "right": null,
            "top": null,
            "visibility": null,
            "width": null
          }
        },
        "bdd90702886c4f33a849b7f0fa9eae0c": {
          "model_module": "@jupyter-widgets/controls",
          "model_name": "ProgressStyleModel",
          "model_module_version": "1.5.0",
          "state": {
            "_model_module": "@jupyter-widgets/controls",
            "_model_module_version": "1.5.0",
            "_model_name": "ProgressStyleModel",
            "_view_count": null,
            "_view_module": "@jupyter-widgets/base",
            "_view_module_version": "1.2.0",
            "_view_name": "StyleView",
            "bar_color": null,
            "description_width": ""
          }
        },
        "9a4b3996100346028f2310d1f8ea941c": {
          "model_module": "@jupyter-widgets/base",
          "model_name": "LayoutModel",
          "model_module_version": "1.2.0",
          "state": {
            "_model_module": "@jupyter-widgets/base",
            "_model_module_version": "1.2.0",
            "_model_name": "LayoutModel",
            "_view_count": null,
            "_view_module": "@jupyter-widgets/base",
            "_view_module_version": "1.2.0",
            "_view_name": "LayoutView",
            "align_content": null,
            "align_items": null,
            "align_self": null,
            "border": null,
            "bottom": null,
            "display": null,
            "flex": null,
            "flex_flow": null,
            "grid_area": null,
            "grid_auto_columns": null,
            "grid_auto_flow": null,
            "grid_auto_rows": null,
            "grid_column": null,
            "grid_gap": null,
            "grid_row": null,
            "grid_template_areas": null,
            "grid_template_columns": null,
            "grid_template_rows": null,
            "height": null,
            "justify_content": null,
            "justify_items": null,
            "left": null,
            "margin": null,
            "max_height": null,
            "max_width": null,
            "min_height": null,
            "min_width": null,
            "object_fit": null,
            "object_position": null,
            "order": null,
            "overflow": null,
            "overflow_x": null,
            "overflow_y": null,
            "padding": null,
            "right": null,
            "top": null,
            "visibility": null,
            "width": null
          }
        },
        "fdbb89b795b2462cbeaa2cf5c3b2af98": {
          "model_module": "@jupyter-widgets/controls",
          "model_name": "DescriptionStyleModel",
          "model_module_version": "1.5.0",
          "state": {
            "_model_module": "@jupyter-widgets/controls",
            "_model_module_version": "1.5.0",
            "_model_name": "DescriptionStyleModel",
            "_view_count": null,
            "_view_module": "@jupyter-widgets/base",
            "_view_module_version": "1.2.0",
            "_view_name": "StyleView",
            "description_width": ""
          }
        },
        "fb182ac639474638941160701788be6a": {
          "model_module": "@jupyter-widgets/controls",
          "model_name": "HBoxModel",
          "model_module_version": "1.5.0",
          "state": {
            "_dom_classes": [],
            "_model_module": "@jupyter-widgets/controls",
            "_model_module_version": "1.5.0",
            "_model_name": "HBoxModel",
            "_view_count": null,
            "_view_module": "@jupyter-widgets/controls",
            "_view_module_version": "1.5.0",
            "_view_name": "HBoxView",
            "box_style": "",
            "children": [
              "IPY_MODEL_cd24b992520644c3a431f4c1fbf74bc8",
              "IPY_MODEL_b25d537eb5e74fc0b0ee981c7265986c",
              "IPY_MODEL_e74cef55021941dbb2603353aa7676bc"
            ],
            "layout": "IPY_MODEL_30f6c1f26f914f5e9b35ecb6250526a5"
          }
        },
        "cd24b992520644c3a431f4c1fbf74bc8": {
          "model_module": "@jupyter-widgets/controls",
          "model_name": "HTMLModel",
          "model_module_version": "1.5.0",
          "state": {
            "_dom_classes": [],
            "_model_module": "@jupyter-widgets/controls",
            "_model_module_version": "1.5.0",
            "_model_name": "HTMLModel",
            "_view_count": null,
            "_view_module": "@jupyter-widgets/controls",
            "_view_module_version": "1.5.0",
            "_view_name": "HTMLView",
            "description": "",
            "description_tooltip": null,
            "layout": "IPY_MODEL_26a00d9b13394861b406da602d101791",
            "placeholder": "​",
            "style": "IPY_MODEL_195b55471f534c0681b36e100b68651f",
            "value": ""
          }
        },
        "b25d537eb5e74fc0b0ee981c7265986c": {
          "model_module": "@jupyter-widgets/controls",
          "model_name": "FloatProgressModel",
          "model_module_version": "1.5.0",
          "state": {
            "_dom_classes": [],
            "_model_module": "@jupyter-widgets/controls",
            "_model_module_version": "1.5.0",
            "_model_name": "FloatProgressModel",
            "_view_count": null,
            "_view_module": "@jupyter-widgets/controls",
            "_view_module_version": "1.5.0",
            "_view_name": "ProgressView",
            "bar_style": "success",
            "description": "",
            "description_tooltip": null,
            "layout": "IPY_MODEL_cb918aa62bd745d7b60b6a92e8e4b9f6",
            "max": 4542,
            "min": 0,
            "orientation": "horizontal",
            "style": "IPY_MODEL_d979ec74c6514f9e8740d7a61667d10f",
            "value": 4542
          }
        },
        "e74cef55021941dbb2603353aa7676bc": {
          "model_module": "@jupyter-widgets/controls",
          "model_name": "HTMLModel",
          "model_module_version": "1.5.0",
          "state": {
            "_dom_classes": [],
            "_model_module": "@jupyter-widgets/controls",
            "_model_module_version": "1.5.0",
            "_model_name": "HTMLModel",
            "_view_count": null,
            "_view_module": "@jupyter-widgets/controls",
            "_view_module_version": "1.5.0",
            "_view_name": "HTMLView",
            "description": "",
            "description_tooltip": null,
            "layout": "IPY_MODEL_44d939fabe3e43588bb3629af5a83cd1",
            "placeholder": "​",
            "style": "IPY_MODEL_651240e9e6294e6e89ca740ffbe8fe45",
            "value": " 5120/? [00:00&lt;00:00, 111123.49it/s]"
          }
        },
        "30f6c1f26f914f5e9b35ecb6250526a5": {
          "model_module": "@jupyter-widgets/base",
          "model_name": "LayoutModel",
          "model_module_version": "1.2.0",
          "state": {
            "_model_module": "@jupyter-widgets/base",
            "_model_module_version": "1.2.0",
            "_model_name": "LayoutModel",
            "_view_count": null,
            "_view_module": "@jupyter-widgets/base",
            "_view_module_version": "1.2.0",
            "_view_name": "LayoutView",
            "align_content": null,
            "align_items": null,
            "align_self": null,
            "border": null,
            "bottom": null,
            "display": null,
            "flex": null,
            "flex_flow": null,
            "grid_area": null,
            "grid_auto_columns": null,
            "grid_auto_flow": null,
            "grid_auto_rows": null,
            "grid_column": null,
            "grid_gap": null,
            "grid_row": null,
            "grid_template_areas": null,
            "grid_template_columns": null,
            "grid_template_rows": null,
            "height": null,
            "justify_content": null,
            "justify_items": null,
            "left": null,
            "margin": null,
            "max_height": null,
            "max_width": null,
            "min_height": null,
            "min_width": null,
            "object_fit": null,
            "object_position": null,
            "order": null,
            "overflow": null,
            "overflow_x": null,
            "overflow_y": null,
            "padding": null,
            "right": null,
            "top": null,
            "visibility": null,
            "width": null
          }
        },
        "26a00d9b13394861b406da602d101791": {
          "model_module": "@jupyter-widgets/base",
          "model_name": "LayoutModel",
          "model_module_version": "1.2.0",
          "state": {
            "_model_module": "@jupyter-widgets/base",
            "_model_module_version": "1.2.0",
            "_model_name": "LayoutModel",
            "_view_count": null,
            "_view_module": "@jupyter-widgets/base",
            "_view_module_version": "1.2.0",
            "_view_name": "LayoutView",
            "align_content": null,
            "align_items": null,
            "align_self": null,
            "border": null,
            "bottom": null,
            "display": null,
            "flex": null,
            "flex_flow": null,
            "grid_area": null,
            "grid_auto_columns": null,
            "grid_auto_flow": null,
            "grid_auto_rows": null,
            "grid_column": null,
            "grid_gap": null,
            "grid_row": null,
            "grid_template_areas": null,
            "grid_template_columns": null,
            "grid_template_rows": null,
            "height": null,
            "justify_content": null,
            "justify_items": null,
            "left": null,
            "margin": null,
            "max_height": null,
            "max_width": null,
            "min_height": null,
            "min_width": null,
            "object_fit": null,
            "object_position": null,
            "order": null,
            "overflow": null,
            "overflow_x": null,
            "overflow_y": null,
            "padding": null,
            "right": null,
            "top": null,
            "visibility": null,
            "width": null
          }
        },
        "195b55471f534c0681b36e100b68651f": {
          "model_module": "@jupyter-widgets/controls",
          "model_name": "DescriptionStyleModel",
          "model_module_version": "1.5.0",
          "state": {
            "_model_module": "@jupyter-widgets/controls",
            "_model_module_version": "1.5.0",
            "_model_name": "DescriptionStyleModel",
            "_view_count": null,
            "_view_module": "@jupyter-widgets/base",
            "_view_module_version": "1.2.0",
            "_view_name": "StyleView",
            "description_width": ""
          }
        },
        "cb918aa62bd745d7b60b6a92e8e4b9f6": {
          "model_module": "@jupyter-widgets/base",
          "model_name": "LayoutModel",
          "model_module_version": "1.2.0",
          "state": {
            "_model_module": "@jupyter-widgets/base",
            "_model_module_version": "1.2.0",
            "_model_name": "LayoutModel",
            "_view_count": null,
            "_view_module": "@jupyter-widgets/base",
            "_view_module_version": "1.2.0",
            "_view_name": "LayoutView",
            "align_content": null,
            "align_items": null,
            "align_self": null,
            "border": null,
            "bottom": null,
            "display": null,
            "flex": null,
            "flex_flow": null,
            "grid_area": null,
            "grid_auto_columns": null,
            "grid_auto_flow": null,
            "grid_auto_rows": null,
            "grid_column": null,
            "grid_gap": null,
            "grid_row": null,
            "grid_template_areas": null,
            "grid_template_columns": null,
            "grid_template_rows": null,
            "height": null,
            "justify_content": null,
            "justify_items": null,
            "left": null,
            "margin": null,
            "max_height": null,
            "max_width": null,
            "min_height": null,
            "min_width": null,
            "object_fit": null,
            "object_position": null,
            "order": null,
            "overflow": null,
            "overflow_x": null,
            "overflow_y": null,
            "padding": null,
            "right": null,
            "top": null,
            "visibility": null,
            "width": null
          }
        },
        "d979ec74c6514f9e8740d7a61667d10f": {
          "model_module": "@jupyter-widgets/controls",
          "model_name": "ProgressStyleModel",
          "model_module_version": "1.5.0",
          "state": {
            "_model_module": "@jupyter-widgets/controls",
            "_model_module_version": "1.5.0",
            "_model_name": "ProgressStyleModel",
            "_view_count": null,
            "_view_module": "@jupyter-widgets/base",
            "_view_module_version": "1.2.0",
            "_view_name": "StyleView",
            "bar_color": null,
            "description_width": ""
          }
        },
        "44d939fabe3e43588bb3629af5a83cd1": {
          "model_module": "@jupyter-widgets/base",
          "model_name": "LayoutModel",
          "model_module_version": "1.2.0",
          "state": {
            "_model_module": "@jupyter-widgets/base",
            "_model_module_version": "1.2.0",
            "_model_name": "LayoutModel",
            "_view_count": null,
            "_view_module": "@jupyter-widgets/base",
            "_view_module_version": "1.2.0",
            "_view_name": "LayoutView",
            "align_content": null,
            "align_items": null,
            "align_self": null,
            "border": null,
            "bottom": null,
            "display": null,
            "flex": null,
            "flex_flow": null,
            "grid_area": null,
            "grid_auto_columns": null,
            "grid_auto_flow": null,
            "grid_auto_rows": null,
            "grid_column": null,
            "grid_gap": null,
            "grid_row": null,
            "grid_template_areas": null,
            "grid_template_columns": null,
            "grid_template_rows": null,
            "height": null,
            "justify_content": null,
            "justify_items": null,
            "left": null,
            "margin": null,
            "max_height": null,
            "max_width": null,
            "min_height": null,
            "min_width": null,
            "object_fit": null,
            "object_position": null,
            "order": null,
            "overflow": null,
            "overflow_x": null,
            "overflow_y": null,
            "padding": null,
            "right": null,
            "top": null,
            "visibility": null,
            "width": null
          }
        },
        "651240e9e6294e6e89ca740ffbe8fe45": {
          "model_module": "@jupyter-widgets/controls",
          "model_name": "DescriptionStyleModel",
          "model_module_version": "1.5.0",
          "state": {
            "_model_module": "@jupyter-widgets/controls",
            "_model_module_version": "1.5.0",
            "_model_name": "DescriptionStyleModel",
            "_view_count": null,
            "_view_module": "@jupyter-widgets/base",
            "_view_module_version": "1.2.0",
            "_view_name": "StyleView",
            "description_width": ""
          }
        }
      }
    }
  },
  "cells": [
    {
      "cell_type": "markdown",
      "metadata": {
        "id": "view-in-github",
        "colab_type": "text"
      },
      "source": [
        "<a href=\"https://colab.research.google.com/github/Papadopoulos18/GAN-with-pytorch/blob/main/GAN_on_pytorch_(MNIST).ipynb\" target=\"_parent\"><img src=\"https://colab.research.google.com/assets/colab-badge.svg\" alt=\"Open In Colab\"/></a>"
      ]
    },
    {
      "cell_type": "code",
      "execution_count": 1,
      "metadata": {
        "id": "WNmQDo7IUf5o"
      },
      "outputs": [],
      "source": [
        "import torch\n",
        "import torch.nn as nn\n",
        "import torchvision\n",
        "import torchvision.transforms as transforms\n",
        "from torchvision.utils import save_image\n",
        "import numpy as np\n",
        "import matplotlib.pyplot as plt\n",
        "from datetime import datetime\n",
        "import os\n"
      ]
    },
    {
      "cell_type": "code",
      "source": [
        "# looks weird, but makes pixel values between -1 and +1\n",
        "# assume they are transformed from (0,1)\n",
        "# min value = (0 - 0.5) / 0.5 = -1\n",
        "# max value = (1 - 0.5) / 0.5 = +1\n",
        "transform = transforms.Compose([\n",
        "    transforms.ToTensor(),\n",
        "    transforms.Normalize(mean=(0.5,),\n",
        "                         std=(0.5,))])\n",
        "\n",
        "\n",
        "train_dataset = torchvision.datasets.MNIST(\n",
        "    root = '.',\n",
        "    train = True,\n",
        "    transform=transforms.ToTensor(),\n",
        "    download=True\n",
        ")\n"
      ],
      "metadata": {
        "colab": {
          "base_uri": "https://localhost:8080/",
          "height": 442,
          "referenced_widgets": [
            "c90aa16e29a14b1aaa182f9114195f70",
            "bc3e8ff249674892b57e87042239d358",
            "c907a80d9bdc40b7870f6162f853c530",
            "d300cd4db2b24a9e94dd859ec3c42c1c",
            "5021281ca6ce4d22976f5aa3b0e61d16",
            "ea59f56529694e9eb81e16cd1413a259",
            "1f5615f40ceb4dd2a4c0677c1c1b3219",
            "bc41a7c838a6403abe74b9bc3c056442",
            "fa05f582b8dc45f995973e84299064e7",
            "4183b37ddf3047a6a13146eed61c6a25",
            "4b6655e64e8b47fa8b1bcc980a9a539a",
            "f3453dc7122a40e4a92d048ed751f5a9",
            "85135deb8bfb457fa344a30d466dd408",
            "882f2e46f0a8492abe814d935b8fad98",
            "3b64ebb01ba34495a024151ee911b774",
            "6352622ef16541e1880481f869b5fae0",
            "6994708f729145a18c2cc3817481eb22",
            "19809cd43e0d4313be7a33893bf5a82c",
            "01ca99952cdf4681b05853a2d32b3598",
            "d8208207bc964f7abffd34cb00550b78",
            "5e00c0514c924f49bf9d59113aa7ff1f",
            "719f005fdbb74b47a33b2389bc86a631",
            "f79555ebdfc34a43a01954f29b09416a",
            "876193e19fb547efbe165c5e61210ca2",
            "d959a527452d455cb79e841cb1035fc8",
            "d2cc44d29f09461b8a74edfd2b07489f",
            "fa24ddc5316249408163786c83c4a68c",
            "beaf2c51db4c4519af23e682a3f0d99a",
            "6b65f029483c45b6a10e3a627fe828ba",
            "74471863c5194030b4fe68cb5f0b8ae9",
            "bdd90702886c4f33a849b7f0fa9eae0c",
            "9a4b3996100346028f2310d1f8ea941c",
            "fdbb89b795b2462cbeaa2cf5c3b2af98",
            "fb182ac639474638941160701788be6a",
            "cd24b992520644c3a431f4c1fbf74bc8",
            "b25d537eb5e74fc0b0ee981c7265986c",
            "e74cef55021941dbb2603353aa7676bc",
            "30f6c1f26f914f5e9b35ecb6250526a5",
            "26a00d9b13394861b406da602d101791",
            "195b55471f534c0681b36e100b68651f",
            "cb918aa62bd745d7b60b6a92e8e4b9f6",
            "d979ec74c6514f9e8740d7a61667d10f",
            "44d939fabe3e43588bb3629af5a83cd1",
            "651240e9e6294e6e89ca740ffbe8fe45"
          ]
        },
        "id": "vdGq7RCHUlfC",
        "outputId": "9f133a90-d3eb-4775-e396-659cda85fac8"
      },
      "execution_count": 2,
      "outputs": [
        {
          "output_type": "stream",
          "name": "stdout",
          "text": [
            "Downloading http://yann.lecun.com/exdb/mnist/train-images-idx3-ubyte.gz\n",
            "Downloading http://yann.lecun.com/exdb/mnist/train-images-idx3-ubyte.gz to ./MNIST/raw/train-images-idx3-ubyte.gz\n"
          ]
        },
        {
          "output_type": "display_data",
          "data": {
            "text/plain": [
              "  0%|          | 0/9912422 [00:00<?, ?it/s]"
            ],
            "application/vnd.jupyter.widget-view+json": {
              "version_major": 2,
              "version_minor": 0,
              "model_id": "c90aa16e29a14b1aaa182f9114195f70"
            }
          },
          "metadata": {}
        },
        {
          "output_type": "stream",
          "name": "stdout",
          "text": [
            "Extracting ./MNIST/raw/train-images-idx3-ubyte.gz to ./MNIST/raw\n",
            "\n",
            "Downloading http://yann.lecun.com/exdb/mnist/train-labels-idx1-ubyte.gz\n",
            "Downloading http://yann.lecun.com/exdb/mnist/train-labels-idx1-ubyte.gz to ./MNIST/raw/train-labels-idx1-ubyte.gz\n"
          ]
        },
        {
          "output_type": "display_data",
          "data": {
            "text/plain": [
              "  0%|          | 0/28881 [00:00<?, ?it/s]"
            ],
            "application/vnd.jupyter.widget-view+json": {
              "version_major": 2,
              "version_minor": 0,
              "model_id": "f3453dc7122a40e4a92d048ed751f5a9"
            }
          },
          "metadata": {}
        },
        {
          "output_type": "stream",
          "name": "stdout",
          "text": [
            "Extracting ./MNIST/raw/train-labels-idx1-ubyte.gz to ./MNIST/raw\n",
            "\n",
            "Downloading http://yann.lecun.com/exdb/mnist/t10k-images-idx3-ubyte.gz\n",
            "Downloading http://yann.lecun.com/exdb/mnist/t10k-images-idx3-ubyte.gz to ./MNIST/raw/t10k-images-idx3-ubyte.gz\n"
          ]
        },
        {
          "output_type": "display_data",
          "data": {
            "text/plain": [
              "  0%|          | 0/1648877 [00:00<?, ?it/s]"
            ],
            "application/vnd.jupyter.widget-view+json": {
              "version_major": 2,
              "version_minor": 0,
              "model_id": "f79555ebdfc34a43a01954f29b09416a"
            }
          },
          "metadata": {}
        },
        {
          "output_type": "stream",
          "name": "stdout",
          "text": [
            "Extracting ./MNIST/raw/t10k-images-idx3-ubyte.gz to ./MNIST/raw\n",
            "\n",
            "Downloading http://yann.lecun.com/exdb/mnist/t10k-labels-idx1-ubyte.gz\n",
            "Downloading http://yann.lecun.com/exdb/mnist/t10k-labels-idx1-ubyte.gz to ./MNIST/raw/t10k-labels-idx1-ubyte.gz\n"
          ]
        },
        {
          "output_type": "display_data",
          "data": {
            "text/plain": [
              "  0%|          | 0/4542 [00:00<?, ?it/s]"
            ],
            "application/vnd.jupyter.widget-view+json": {
              "version_major": 2,
              "version_minor": 0,
              "model_id": "fb182ac639474638941160701788be6a"
            }
          },
          "metadata": {}
        },
        {
          "output_type": "stream",
          "name": "stdout",
          "text": [
            "Extracting ./MNIST/raw/t10k-labels-idx1-ubyte.gz to ./MNIST/raw\n",
            "\n"
          ]
        }
      ]
    },
    {
      "cell_type": "code",
      "source": [
        "train_dataset"
      ],
      "metadata": {
        "colab": {
          "base_uri": "https://localhost:8080/"
        },
        "id": "y5pWRP3LUmHB",
        "outputId": "f4fdc73d-4a17-4c8d-e0ec-80035e4d9f1d"
      },
      "execution_count": 3,
      "outputs": [
        {
          "output_type": "execute_result",
          "data": {
            "text/plain": [
              "Dataset MNIST\n",
              "    Number of datapoints: 60000\n",
              "    Root location: .\n",
              "    Split: Train\n",
              "    StandardTransform\n",
              "Transform: ToTensor()"
            ]
          },
          "metadata": {},
          "execution_count": 3
        }
      ]
    },
    {
      "cell_type": "code",
      "source": [
        "batch_size = 128\n",
        "data_loader = torch.utils.data.DataLoader(dataset=train_dataset,\n",
        "                                          batch_size=batch_size,\n",
        "                                          shuffle=True)"
      ],
      "metadata": {
        "id": "zloozt_KUn3D"
      },
      "execution_count": 4,
      "outputs": []
    },
    {
      "cell_type": "code",
      "source": [
        "# Discriminator\n",
        "D = nn.Sequential(\n",
        "    nn.Linear(784, 512),\n",
        "    nn.LeakyReLU(0.2),\n",
        "    nn.Linear(512, 256),\n",
        "    nn.LeakyReLU(0.2),\n",
        "    nn.Linear(256, 1),\n",
        "    # nn.Sigmoid\n",
        "\n",
        ")\n",
        "\n",
        "# Generator\n",
        "latent_dim = 100\n",
        "G = nn.Sequential(\n",
        "    nn.Linear(latent_dim, 256),\n",
        "    nn.LeakyReLU(0.2),\n",
        "    nn.BatchNorm1d(256, momentum=0.7),\n",
        "    nn.Linear(256, 512),\n",
        "    nn.LeakyReLU(0.2),\n",
        "    nn.BatchNorm1d(512, momentum=0.7),\n",
        "    nn.Linear(512, 1024),\n",
        "    nn.LeakyReLU(0.2),\n",
        "    nn.BatchNorm1d(1024, momentum=0.7),\n",
        "    nn.Linear(1024, 784),\n",
        "    nn.Tanh()                                           #maps the output values to be (-1, +1)\n",
        ")\n"
      ],
      "metadata": {
        "id": "kvSBkcgmUpRs"
      },
      "execution_count": 5,
      "outputs": []
    },
    {
      "cell_type": "code",
      "source": [
        "# set device\n",
        "device = torch.device(\"cuda:0\" if torch.cuda.is_available() else \"cpu\")\n",
        "D = D.to(device)\n",
        "G = G.to(device)\n",
        "\n",
        "print(f'Discriminator model: {D} \\n and Generator model: {G}')"
      ],
      "metadata": {
        "colab": {
          "base_uri": "https://localhost:8080/"
        },
        "id": "B39ycr9ZUyoK",
        "outputId": "890b32ef-ee1e-4afd-803b-4432973431f6"
      },
      "execution_count": 6,
      "outputs": [
        {
          "output_type": "stream",
          "name": "stdout",
          "text": [
            "Discriminator model: Sequential(\n",
            "  (0): Linear(in_features=784, out_features=512, bias=True)\n",
            "  (1): LeakyReLU(negative_slope=0.2)\n",
            "  (2): Linear(in_features=512, out_features=256, bias=True)\n",
            "  (3): LeakyReLU(negative_slope=0.2)\n",
            "  (4): Linear(in_features=256, out_features=1, bias=True)\n",
            ") \n",
            " and Generator model: Sequential(\n",
            "  (0): Linear(in_features=100, out_features=256, bias=True)\n",
            "  (1): LeakyReLU(negative_slope=0.2)\n",
            "  (2): BatchNorm1d(256, eps=1e-05, momentum=0.7, affine=True, track_running_stats=True)\n",
            "  (3): Linear(in_features=256, out_features=512, bias=True)\n",
            "  (4): LeakyReLU(negative_slope=0.2)\n",
            "  (5): BatchNorm1d(512, eps=1e-05, momentum=0.7, affine=True, track_running_stats=True)\n",
            "  (6): Linear(in_features=512, out_features=1024, bias=True)\n",
            "  (7): LeakyReLU(negative_slope=0.2)\n",
            "  (8): BatchNorm1d(1024, eps=1e-05, momentum=0.7, affine=True, track_running_stats=True)\n",
            "  (9): Linear(in_features=1024, out_features=784, bias=True)\n",
            "  (10): Tanh()\n",
            ")\n"
          ]
        }
      ]
    },
    {
      "cell_type": "code",
      "source": [
        "# loss and optimizers\n",
        "criterion = nn.BCEWithLogitsLoss()\n",
        "d_optimizer = torch.optim.Adam(D.parameters(), lr=0.0002, betas=(0.5, 0.999))\n",
        "g_optimizer = torch.optim.Adam(G.parameters(), lr=0.0002, betas=(0.5, 0.999))"
      ],
      "metadata": {
        "id": "Ji4EvTKMU2I4"
      },
      "execution_count": 7,
      "outputs": []
    },
    {
      "cell_type": "code",
      "source": [
        "# function to scale img from (-1,+1) back to (0,1)\n",
        "def scale_image(img):\n",
        "  out = (img + 1) / 2\n",
        "  return out\n",
        "\n",
        "  # create a folder to store generated images\n",
        "if not os.path.exists('gan_images'):\n",
        "  os.makedirs('gan_images')"
      ],
      "metadata": {
        "id": "QSW3NAeVU6eD"
      },
      "execution_count": 8,
      "outputs": []
    },
    {
      "cell_type": "code",
      "source": [
        "# training loop\n",
        "\n",
        "# labels to use in the loop (those are our targets) they are contstant values -> so they are not inside the loop\n",
        "ones_ = torch.ones(batch_size,1).to(device)                                     #torch.Size([128, 1])\n",
        "zeros_ = torch.zeros(batch_size,1).to(device)\n",
        "\n",
        "# print(ones_.shape)\n",
        "# save losses\n",
        "d_losses = []\n",
        "g_losses = []\n",
        "\n",
        "for epoch in range(80):\n",
        "  for inputs, _ in data_loader:                                                 # input.shape(128,28,28)\n",
        "    # don't need targets\n",
        "    \n",
        "    # reshape and move to GPU\n",
        "    n = inputs.size(0)                                                          #torch.Size([128, 1, 28, 28])\n",
        "    inputs = inputs.reshape(n, 784).to(device)                                  #because the last iter will be 96 and not 128 ! so thew actual batch size will not be equal to the specified batch size:torch.Size([128, 784]) and torch.Size([96, 784]) \n",
        "    \n",
        "    # set ones and zeros to correct size\n",
        "    ones = ones_[:n]                                                            #torch.Size([128, 1]) and torch.Size([96, 1]) for the last one\n",
        "    zeros = zeros_[:n]\n",
        "    \n",
        "\n",
        "    ##########################################\n",
        "    ########## Train Discriminator ###########\n",
        "    ##########################################\n",
        "\n",
        "    # real images\n",
        "    real_outputs = D(inputs)\n",
        "    d_loss_real = criterion(real_outputs, ones)\n",
        "\n",
        "    # fake images\n",
        "    noise = torch.randn(n, latent_dim).to(device)\n",
        "    fake_images = G(noise)\n",
        "    fake_outputs = D(fake_images)\n",
        "    d_loss_fake = criterion(fake_outputs, zeros)\n",
        "\n",
        "    # gradient descent step\n",
        "    d_loss = 0.5 * (d_loss_real + d_loss_fake)\n",
        "    d_optimizer.zero_grad()\n",
        "    g_optimizer.zero_grad()\n",
        "    d_loss.backward()\n",
        "    d_optimizer.step()\n",
        "\n",
        "\n",
        "\n",
        "    ##########################################\n",
        "    ############ Train Generator #############\n",
        "    ##########################################\n",
        "\n",
        "    # do it twice (has to be more powerful network than Discriminator)\n",
        "    for _ in range(2):\n",
        "      # fake images\n",
        "      noise = torch.randn(n, latent_dim).to(device)\n",
        "      fake_images = G(noise)\n",
        "      fake_outputs = D(fake_images)\n",
        "\n",
        "      # REVERSE the labels!\n",
        "      g_loss = criterion(fake_outputs, ones)                                    #we pass them as real while they are fake\n",
        "      \n",
        "      # greadient descent step\n",
        "      d_optimizer.zero_grad()\n",
        "      g_optimizer.zero_grad()\n",
        "      g_loss.backward()\n",
        "      g_optimizer.step()\n",
        "\n",
        "    # save losses\n",
        "    d_losses.append(d_loss.item())\n",
        "    g_losses.append(g_loss.item())\n",
        "\n",
        "\n",
        "  ## print and save things ##\n",
        "  print(f'Epoch {epoch}, discr_loss: {d_loss.item()} gener_loss: {g_loss.item()}')\n",
        "\n",
        "  # Pytorch has a function to save a batch of images to file \n",
        "  fake_images = fake_images.reshape(-1, 1, 28, 28)                              #we have to save the image to the correct size\n",
        "  save_image(scale_image(fake_images), f\"gan_images/{epoch + 1}.png\")\n"
      ],
      "metadata": {
        "colab": {
          "base_uri": "https://localhost:8080/"
        },
        "id": "xY3suNQUU-nU",
        "outputId": "e9856e21-3d16-4f3e-8080-ed615f9cd836"
      },
      "execution_count": 9,
      "outputs": [
        {
          "output_type": "stream",
          "name": "stdout",
          "text": [
            "Epoch 0, discr_loss: 0.6956933736801147 gener_loss: 0.6971151232719421\n",
            "Epoch 1, discr_loss: 0.6952406764030457 gener_loss: 0.6972999572753906\n",
            "Epoch 2, discr_loss: 0.6948044300079346 gener_loss: 0.6874464750289917\n",
            "Epoch 3, discr_loss: 0.6932685375213623 gener_loss: 0.676455020904541\n",
            "Epoch 4, discr_loss: 0.6930233836174011 gener_loss: 0.6920751333236694\n",
            "Epoch 5, discr_loss: 0.6864923238754272 gener_loss: 1.1080355644226074\n",
            "Epoch 6, discr_loss: 0.6458035707473755 gener_loss: 1.6715023517608643\n",
            "Epoch 7, discr_loss: 0.381869375705719 gener_loss: 2.482830047607422\n",
            "Epoch 8, discr_loss: 0.2270078957080841 gener_loss: 2.093379497528076\n",
            "Epoch 9, discr_loss: 0.33730071783065796 gener_loss: 3.3898162841796875\n",
            "Epoch 10, discr_loss: 0.2126820683479309 gener_loss: 4.25222110748291\n",
            "Epoch 11, discr_loss: 0.2034430354833603 gener_loss: 3.492323398590088\n",
            "Epoch 12, discr_loss: 0.1848454624414444 gener_loss: 3.7956275939941406\n",
            "Epoch 13, discr_loss: 0.27022334933280945 gener_loss: 5.109706878662109\n",
            "Epoch 14, discr_loss: 0.2651776373386383 gener_loss: 2.3440356254577637\n",
            "Epoch 15, discr_loss: 0.30542755126953125 gener_loss: 5.725013732910156\n",
            "Epoch 16, discr_loss: 0.1035689264535904 gener_loss: 10.04809856414795\n",
            "Epoch 17, discr_loss: 0.26874101161956787 gener_loss: 3.7917189598083496\n",
            "Epoch 18, discr_loss: 0.3439587950706482 gener_loss: 5.6886115074157715\n",
            "Epoch 19, discr_loss: 0.246364563703537 gener_loss: 1.5647482872009277\n",
            "Epoch 20, discr_loss: 0.2461986243724823 gener_loss: 2.3478171825408936\n",
            "Epoch 21, discr_loss: 0.20548370480537415 gener_loss: 5.067622184753418\n",
            "Epoch 22, discr_loss: 0.22329512238502502 gener_loss: 2.155609607696533\n",
            "Epoch 23, discr_loss: 0.14553216099739075 gener_loss: 3.164057493209839\n",
            "Epoch 24, discr_loss: 0.23238259553909302 gener_loss: 4.570855140686035\n",
            "Epoch 25, discr_loss: 0.0753420889377594 gener_loss: 5.947418212890625\n",
            "Epoch 26, discr_loss: 0.10922785103321075 gener_loss: 4.224514007568359\n",
            "Epoch 27, discr_loss: 0.14189428091049194 gener_loss: 3.7435271739959717\n",
            "Epoch 28, discr_loss: 0.11955273896455765 gener_loss: 3.8944506645202637\n",
            "Epoch 29, discr_loss: 0.22246748208999634 gener_loss: 4.658775329589844\n",
            "Epoch 30, discr_loss: 0.7729798555374146 gener_loss: 5.887916564941406\n",
            "Epoch 31, discr_loss: 0.1477966010570526 gener_loss: 3.779623031616211\n",
            "Epoch 32, discr_loss: 0.12122545391321182 gener_loss: 4.4291887283325195\n",
            "Epoch 33, discr_loss: 0.23478031158447266 gener_loss: 6.244383811950684\n",
            "Epoch 34, discr_loss: 0.13594605028629303 gener_loss: 3.3651671409606934\n",
            "Epoch 35, discr_loss: 0.13527797162532806 gener_loss: 2.1846394538879395\n",
            "Epoch 36, discr_loss: 0.03553935885429382 gener_loss: 2.8080825805664062\n",
            "Epoch 37, discr_loss: 0.3747376501560211 gener_loss: 10.51058578491211\n",
            "Epoch 38, discr_loss: 0.15433084964752197 gener_loss: 2.972480297088623\n",
            "Epoch 39, discr_loss: 0.11408534646034241 gener_loss: 7.6088104248046875\n",
            "Epoch 40, discr_loss: 0.4384966790676117 gener_loss: 7.066144943237305\n",
            "Epoch 41, discr_loss: 0.3397125005722046 gener_loss: 5.58145809173584\n",
            "Epoch 42, discr_loss: 0.05337923765182495 gener_loss: 2.0343613624572754\n",
            "Epoch 43, discr_loss: 0.10046866536140442 gener_loss: 3.9275012016296387\n",
            "Epoch 44, discr_loss: 0.16671185195446014 gener_loss: 4.545856952667236\n",
            "Epoch 45, discr_loss: 0.16804248094558716 gener_loss: 7.508393287658691\n",
            "Epoch 46, discr_loss: 0.08732770383358002 gener_loss: 5.3751020431518555\n",
            "Epoch 47, discr_loss: 0.20537617802619934 gener_loss: 6.148561477661133\n",
            "Epoch 48, discr_loss: 0.16113275289535522 gener_loss: 7.144529342651367\n",
            "Epoch 49, discr_loss: 0.12489437311887741 gener_loss: 5.071525573730469\n",
            "Epoch 50, discr_loss: 0.06542371213436127 gener_loss: 4.182677268981934\n",
            "Epoch 51, discr_loss: 0.10335090756416321 gener_loss: 3.297375440597534\n",
            "Epoch 52, discr_loss: 0.07915646582841873 gener_loss: 4.92274808883667\n",
            "Epoch 53, discr_loss: 0.07574648410081863 gener_loss: 7.03085470199585\n",
            "Epoch 54, discr_loss: 0.062293630093336105 gener_loss: 4.183285713195801\n",
            "Epoch 55, discr_loss: 0.05204584449529648 gener_loss: 6.638896942138672\n",
            "Epoch 56, discr_loss: 0.062311217188835144 gener_loss: 4.360032558441162\n",
            "Epoch 57, discr_loss: 0.07002227008342743 gener_loss: 5.394044876098633\n",
            "Epoch 58, discr_loss: 0.16422004997730255 gener_loss: 6.158305644989014\n",
            "Epoch 59, discr_loss: 0.09341482818126678 gener_loss: 11.1869535446167\n",
            "Epoch 60, discr_loss: 0.0714704692363739 gener_loss: 3.61550235748291\n",
            "Epoch 61, discr_loss: 0.055502600967884064 gener_loss: 5.706353664398193\n",
            "Epoch 62, discr_loss: 0.07704120874404907 gener_loss: 4.566025257110596\n",
            "Epoch 63, discr_loss: 0.05568532273173332 gener_loss: 4.40041971206665\n",
            "Epoch 64, discr_loss: 0.06829598546028137 gener_loss: 5.3433942794799805\n",
            "Epoch 65, discr_loss: 0.0786719024181366 gener_loss: 5.732776641845703\n",
            "Epoch 66, discr_loss: 0.06893973052501678 gener_loss: 5.416669845581055\n",
            "Epoch 67, discr_loss: 0.2017481029033661 gener_loss: 4.370198726654053\n",
            "Epoch 68, discr_loss: 0.06882907450199127 gener_loss: 4.699197769165039\n",
            "Epoch 69, discr_loss: 0.06310263276100159 gener_loss: 5.408772945404053\n",
            "Epoch 70, discr_loss: 0.09793903678655624 gener_loss: 5.046778678894043\n",
            "Epoch 71, discr_loss: 0.27299514412879944 gener_loss: 6.852729797363281\n",
            "Epoch 72, discr_loss: 0.07796669006347656 gener_loss: 6.9728498458862305\n",
            "Epoch 73, discr_loss: 0.08098568022251129 gener_loss: 5.2249627113342285\n",
            "Epoch 74, discr_loss: 0.06607840210199356 gener_loss: 4.066001892089844\n",
            "Epoch 75, discr_loss: 0.07024005055427551 gener_loss: 5.5014967918396\n",
            "Epoch 76, discr_loss: 0.1090610921382904 gener_loss: 5.3194169998168945\n",
            "Epoch 77, discr_loss: 0.11315184831619263 gener_loss: 5.410694122314453\n",
            "Epoch 78, discr_loss: 0.18936601281166077 gener_loss: 8.559930801391602\n",
            "Epoch 79, discr_loss: 0.07348078489303589 gener_loss: 4.005725860595703\n"
          ]
        }
      ]
    },
    {
      "cell_type": "code",
      "source": [
        "plt.plot(g_losses, label= 'g losses')\n",
        "plt.plot(d_losses, label= 'd loss')\n",
        "plt.legend()\n",
        "plt.show()\n"
      ],
      "metadata": {
        "colab": {
          "base_uri": "https://localhost:8080/",
          "height": 266
        },
        "id": "MB9H23EtVE0v",
        "outputId": "b126bd53-eeba-495f-a33d-b97440be39c2"
      },
      "execution_count": 10,
      "outputs": [
        {
          "output_type": "display_data",
          "data": {
            "text/plain": [
              "<Figure size 432x288 with 1 Axes>"
            ],
            "image/png": "[encoded data removed]"
          },
          "metadata": {
            "needs_background": "light"
          }
        }
      ]
    },
    {
      "cell_type": "code",
      "source": [
        "from skimage.io import imread\n",
        "a = imread('gan_images/1.png')\n",
        "plt.imshow(a)\n"
      ],
      "metadata": {
        "colab": {
          "base_uri": "https://localhost:8080/",
          "height": 286
        },
        "id": "v2ZVMDdeVIRK",
        "outputId": "dca1521c-32fc-493d-df1a-816aa39c29c7"
      },
      "execution_count": 12,
      "outputs": [
        {
          "output_type": "execute_result",
          "data": {
            "text/plain": [
              "<matplotlib.image.AxesImage at 0x7f9972255390>"
            ]
          },
          "metadata": {},
          "execution_count": 12
        },
        {
          "output_type": "display_data",
          "data": {
            "text/plain": [
              "<Figure size 432x288 with 1 Axes>"
            ],
            "image/png": "[encoded data removed]"
          },
          "metadata": {
            "needs_background": "light"
          }
        }
      ]
    },
    {
      "cell_type": "code",
      "source": [
        "\n",
        "from skimage.io import imread\n",
        "a = imread('gan_images/40.png')\n",
        "plt.imshow(a)\n",
        "\n"
      ],
      "metadata": {
        "colab": {
          "base_uri": "https://localhost:8080/",
          "height": 286
        },
        "id": "V3ohy4mtaKm-",
        "outputId": "5558669e-3843-47cb-ff8b-9a8b7108fcf3"
      },
      "execution_count": 13,
      "outputs": [
        {
          "output_type": "execute_result",
          "data": {
            "text/plain": [
              "<matplotlib.image.AxesImage at 0x7f99709911d0>"
            ]
          },
          "metadata": {},
          "execution_count": 13
        },
        {
          "output_type": "display_data",
          "data": {
            "text/plain": [
              "<Figure size 432x288 with 1 Axes>"
            ],
            "image/png": "[encoded data removed]"
          },
          "metadata": {
            "needs_background": "light"
          }
        }
      ]
    },
    {
      "cell_type": "code",
      "source": [
        "from skimage.io import imread\n",
        "a = imread('gan_images/80.png')\n",
        "plt.imshow(a)"
      ],
      "metadata": {
        "colab": {
          "base_uri": "https://localhost:8080/",
          "height": 286
        },
        "id": "UknYdtXyaTMm",
        "outputId": "823eb548-159f-4b61-caaa-d9d5e99c9d5b"
      },
      "execution_count": 14,
      "outputs": [
        {
          "output_type": "execute_result",
          "data": {
            "text/plain": [
              "<matplotlib.image.AxesImage at 0x7f9972316fd0>"
            ]
          },
          "metadata": {},
          "execution_count": 14
        },
        {
          "output_type": "display_data",
          "data": {
            "text/plain": [
              "<Figure size 432x288 with 1 Axes>"
            ],
            "image/png": "[encoded data removed]"
          },
          "metadata": {
            "needs_background": "light"
          }
        }
      ]
    },
    {
      "cell_type": "code",
      "source": [
        ""
      ],
      "metadata": {
        "id": "PT4zuKhKaUma"
      },
      "execution_count": null,
      "outputs": []
    }
  ]
}